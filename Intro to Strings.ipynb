{
  "cells": [
    {
      "cell_type": "markdown",
      "metadata": {},
      "source": [
        "# Introduction to Strings in Python\n",
        "\n",
        "Strings are one of the most fundamental data types in Python and many other programming languages. In essence, a string is a sequence of characters. These characters can be letters, numbers, symbols, whitespace, or any combination thereof.\n",
        "\n",
        "In programming terminology, a single character, such as 'a' or '1', is often referred to as a `char`. While some languages differentiate between a string and a char data type, in Python, both are considered strings regardless of their length.\n",
        "\n",
        "## Defining Strings\n",
        "\n",
        "In Python, strings can be defined in several ways:\n",
        "\n",
        "1. **Single Quotes:** This is a common way to define strings. For instance, `'Hello, World!'`.\n",
        "\n",
        "    ```python\n",
        "    greeting = 'Hello, World!'\n",
        "    ```\n",
        "\n",
        "2. **Double Quotes:** They function the same way as single quotes. It's mostly a matter of preference or to handle cases where the string itself contains a single quote. Example: `\"I'm learning Python!\"`.\n",
        "\n",
        "    ```python\n",
        "    statement = \"I'm learning Python!\"\n",
        "    ```\n",
        "\n",
        "3. **Triple Quotes:** These can be triple single quotes `'''` or triple double quotes `\"\"\"`. They're used to define multiline strings or strings that span across several lines. They're also commonly used for docstrings (documentation strings) in functions.\n",
        "\n",
        "    ```python\n",
        "    paragraph = \"\"\"This is a long string that spans\n",
        "    across multiple lines. It's useful for large\n",
        "    blocks of text.\"\"\"\n",
        "    ```\n",
        "\n",
        "Regardless of which style you choose, it's essential to remain consistent throughout your code.\n",
        "\n",
        "In conclusion, strings are a versatile data type in Python, and understanding how to define and manipulate them is foundational to many programming tasks, from simple output messages to complex text processing operations."
      ]
    },
    {
      "cell_type": "markdown",
      "metadata": {
        "id": "UyC_uB7Gdeux"
      },
      "source": [
        "# Title: Intro to Strings\n",
        "How to define a sting\n",
        "1. \"Hello world!\"\n",
        "1. 'Hello world!'\n",
        "1. \"\"\" Hello world \"\"\"\n",
        "\n",
        "Why?\n",
        "The python creator chose it"
      ]
    },
    {
      "cell_type": "code",
      "execution_count": 37,
      "metadata": {
        "colab": {
          "base_uri": "https://localhost:8080/",
          "height": 35
        },
        "id": "hx_RMoi-dCID",
        "outputId": "f55d9921-3152-4c0c-a74a-dd38d97966e1"
      },
      "outputs": [
        {
          "data": {
            "application/vnd.google.colaboratory.intrinsic+json": {
              "type": "string"
            },
            "text/plain": [
              "'same'"
            ]
          },
          "execution_count": 37,
          "metadata": {},
          "output_type": "execute_result"
        }
      ],
      "source": [
        "'same'"
      ]
    },
    {
      "cell_type": "code",
      "execution_count": 38,
      "metadata": {
        "colab": {
          "base_uri": "https://localhost:8080/",
          "height": 35
        },
        "id": "ZSlApj0gdDFm",
        "outputId": "15b9f525-bd92-482b-e9df-55a5420160a4"
      },
      "outputs": [
        {
          "data": {
            "application/vnd.google.colaboratory.intrinsic+json": {
              "type": "string"
            },
            "text/plain": [
              "'same'"
            ]
          },
          "execution_count": 38,
          "metadata": {},
          "output_type": "execute_result"
        }
      ],
      "source": [
        "\"same\""
      ]
    },
    {
      "cell_type": "code",
      "execution_count": 41,
      "metadata": {
        "colab": {
          "base_uri": "https://localhost:8080/",
          "height": 35
        },
        "id": "9CYZQZgNdD-S",
        "outputId": "e9666a72-7699-4708-f578-f1e261652eb7"
      },
      "outputs": [
        {
          "data": {
            "application/vnd.google.colaboratory.intrinsic+json": {
              "type": "string"
            },
            "text/plain": [
              "'same'"
            ]
          },
          "execution_count": 41,
          "metadata": {},
          "output_type": "execute_result"
        }
      ],
      "source": [
        "\"\"\"same\"\"\""
      ]
    },
    {
      "cell_type": "code",
      "execution_count": 36,
      "metadata": {
        "colab": {
          "base_uri": "https://localhost:8080/",
          "height": 35
        },
        "id": "ZDMtO25ydKIj",
        "outputId": "0e9c86a3-020f-4157-ec63-902eee2cec1c"
      },
      "outputs": [
        {
          "data": {
            "application/vnd.google.colaboratory.intrinsic+json": {
              "type": "string"
            },
            "text/plain": [
              "'same'"
            ]
          },
          "execution_count": 36,
          "metadata": {},
          "output_type": "execute_result"
        }
      ],
      "source": [
        "'''same'''"
      ]
    },
    {
      "cell_type": "markdown",
      "metadata": {},
      "source": [
        "# From Char to String\n",
        "\n",
        "Basically, a string is like an array of a single character stings, but we will get to arrays later."
      ]
    },
    {
      "cell_type": "code",
      "execution_count": 47,
      "metadata": {
        "id": "fyNFQruIqIZ9"
      },
      "outputs": [],
      "source": [
        "my_char = 's'"
      ]
    },
    {
      "cell_type": "code",
      "execution_count": 48,
      "metadata": {
        "id": "ETE67W5pqKlE"
      },
      "outputs": [],
      "source": [
        "my_char2 = 'S'"
      ]
    },
    {
      "cell_type": "code",
      "execution_count": 45,
      "metadata": {
        "id": "-jFwokaip0nC"
      },
      "outputs": [],
      "source": [
        "my_string = 'YaY WoW'"
      ]
    },
    {
      "cell_type": "code",
      "execution_count": 46,
      "metadata": {
        "colab": {
          "base_uri": "https://localhost:8080/",
          "height": 35
        },
        "id": "up5QAEysqA4s",
        "outputId": "12a55238-46a3-46d5-c67c-e9373b28a466"
      },
      "outputs": [
        {
          "data": {
            "application/vnd.google.colaboratory.intrinsic+json": {
              "type": "string"
            },
            "text/plain": [
              "'YaY WoW'"
            ]
          },
          "execution_count": 46,
          "metadata": {},
          "output_type": "execute_result"
        }
      ],
      "source": [
        "my_string"
      ]
    },
    {
      "cell_type": "code",
      "execution_count": 49,
      "metadata": {
        "colab": {
          "base_uri": "https://localhost:8080/",
          "height": 35
        },
        "id": "wTkeN_m5qV8m",
        "outputId": "8aa824ca-5c0b-4907-cd1e-4249a99fa845"
      },
      "outputs": [
        {
          "data": {
            "application/vnd.google.colaboratory.intrinsic+json": {
              "type": "string"
            },
            "text/plain": [
              "'YaY WoW'"
            ]
          },
          "execution_count": 49,
          "metadata": {},
          "output_type": "execute_result"
        }
      ],
      "source": [
        "my_string"
      ]
    },
    {
      "cell_type": "markdown",
      "metadata": {},
      "source": [
        "# String Manipulation Based on Indexes\n",
        "\n",
        "Strings in Python are sequences of characters, and each character has a unique position, or index, in the sequence. These indexes allow us to access, extract, and manipulate specific parts of the string. The indexing starts from `0` for the first character and goes up by `1` for each subsequent character.\n",
        "\n",
        "## Accessing a Single Character in a String\n",
        "\n",
        "You can access a specific character in a string by referring to its index number. Use square brackets for slicing along with the index to obtain the character.\n",
        "\n",
        "**Example:**\n",
        "\n",
        "```python\n",
        "text = \"Python\"\n",
        "print(text[0])  # Outputs: P\n",
        "print(text[3])  # Outputs: h\n",
        "```\n",
        "\n",
        "## Accessing a Part of a String (Slicing)\n",
        "\n",
        "Python allows you to \"slice\" a string, which means extracting a part of it. You can specify where to start the slicing, and where to end.\n",
        "\n",
        "The syntax is: \n",
        "\n",
        "```\n",
        "string[start:end]\n",
        "```\n",
        "\n",
        "**Note:** The character at the start index is included, but the character at the end index is not.\n",
        "\n",
        "**Example:**\n",
        "\n",
        "```python\n",
        "text = \"Python\"\n",
        "print(text[1:4])  # Outputs: yth\n",
        "```\n",
        "\n",
        "You can also omit the start or end index:\n",
        "\n",
        "- If you omit the start index, Python will start from the beginning.\n",
        "  \n",
        "  ```python\n",
        "  print(text[:4])  # Outputs: Pyth\n",
        "  ```\n",
        "\n",
        "- If you omit the end index, Python will go until the end.\n",
        "\n",
        "  ```python\n",
        "  print(text[2:])  # Outputs: thon\n",
        "  ```\n",
        "\n",
        "## Getting the End of a String\n",
        "\n",
        "To get characters from the end of a string, you can use negative indices:\n",
        "\n",
        "- `-1` refers to the last character, `-2` refers to the second last character, and so on.\n",
        "\n",
        "**Example:**\n",
        "\n",
        "```python\n",
        "text = \"Python\"\n",
        "print(text[-1])    # Outputs: n\n",
        "print(text[-3:])   # Outputs: hon\n",
        "print(text[-4:-1]) # Outputs: tho\n",
        "```\n",
        "\n",
        "## In Summary\n",
        "\n",
        "String manipulation based on indexes is a powerful way to access and modify specific parts of your strings in Python. By understanding the index system and the concept of slicing, you can effectively work with parts of strings to fit your application's requirements."
      ]
    },
    {
      "cell_type": "code",
      "execution_count": 50,
      "metadata": {
        "colab": {
          "base_uri": "https://localhost:8080/",
          "height": 35
        },
        "id": "qJJkEcGkqmHg",
        "outputId": "c0906ff6-9825-4252-9397-c20e0507dcf4"
      },
      "outputs": [
        {
          "data": {
            "application/vnd.google.colaboratory.intrinsic+json": {
              "type": "string"
            },
            "text/plain": [
              "'Y'"
            ]
          },
          "execution_count": 50,
          "metadata": {},
          "output_type": "execute_result"
        }
      ],
      "source": [
        "# New Operator []\n",
        "my_string[0]"
      ]
    },
    {
      "cell_type": "code",
      "execution_count": 51,
      "metadata": {
        "colab": {
          "base_uri": "https://localhost:8080/"
        },
        "id": "av_Td2J0q3uR",
        "outputId": "b42c21b5-65fc-4f6b-9410-37b16b5df3b9"
      },
      "outputs": [
        {
          "name": "stdout",
          "output_type": "stream",
          "text": [
            "YaY WoW\n"
          ]
        }
      ],
      "source": [
        "print(my_string)"
      ]
    },
    {
      "cell_type": "code",
      "execution_count": 55,
      "metadata": {
        "colab": {
          "base_uri": "https://localhost:8080/",
          "height": 35
        },
        "id": "BulSezDnq31l",
        "outputId": "d096b20b-be9c-4171-f2ab-866eb08874e9"
      },
      "outputs": [
        {
          "data": {
            "application/vnd.google.colaboratory.intrinsic+json": {
              "type": "string"
            },
            "text/plain": [
              "' '"
            ]
          },
          "execution_count": 55,
          "metadata": {},
          "output_type": "execute_result"
        }
      ],
      "source": [
        "my_string[3]"
      ]
    },
    {
      "cell_type": "code",
      "execution_count": 59,
      "metadata": {
        "colab": {
          "base_uri": "https://localhost:8080/"
        },
        "id": "XxPVpyjOr_b3",
        "outputId": "2677535f-b387-4fc4-bfb0-03ea7b21933a"
      },
      "outputs": [
        {
          "name": "stdout",
          "output_type": "stream",
          "text": [
            "YaY \n",
            "W\n"
          ]
        }
      ],
      "source": [
        "print(my_string[0:4])\n",
        "print(my_string[4])"
      ]
    },
    {
      "cell_type": "code",
      "execution_count": 66,
      "metadata": {
        "colab": {
          "base_uri": "https://localhost:8080/",
          "height": 176
        },
        "id": "UUm3Q2LGs_Dk",
        "outputId": "51c656cc-dea1-4c44-8ae6-1f873c26fe67"
      },
      "outputs": [
        {
          "ename": "IndexError",
          "evalue": "ignored",
          "output_type": "error",
          "traceback": [
            "\u001b[0;31m---------------------------------------------------------------------------\u001b[0m",
            "\u001b[0;31mIndexError\u001b[0m                                Traceback (most recent call last)",
            "\u001b[0;32m<ipython-input-66-a8aa16518d4b>\u001b[0m in \u001b[0;36m<cell line: 1>\u001b[0;34m()\u001b[0m\n\u001b[0;32m----> 1\u001b[0;31m \u001b[0mmy_string\u001b[0m\u001b[0;34m[\u001b[0m\u001b[0;36m9\u001b[0m\u001b[0;34m]\u001b[0m\u001b[0;34m\u001b[0m\u001b[0;34m\u001b[0m\u001b[0m\n\u001b[0m",
            "\u001b[0;31mIndexError\u001b[0m: string index out of range"
          ]
        }
      ],
      "source": [
        "my_string[9]"
      ]
    },
    {
      "cell_type": "code",
      "execution_count": 60,
      "metadata": {
        "colab": {
          "base_uri": "https://localhost:8080/"
        },
        "id": "r8vAuj1psaHE",
        "outputId": "869ffbf9-5498-4c1b-9bc8-8a7808a8fa14"
      },
      "outputs": [
        {
          "name": "stdout",
          "output_type": "stream",
          "text": [
            "YaY \n",
            "YaY \n"
          ]
        }
      ],
      "source": [
        "print(my_string[:4])\n",
        "print(my_string[0:4])"
      ]
    },
    {
      "cell_type": "code",
      "execution_count": 61,
      "metadata": {
        "colab": {
          "base_uri": "https://localhost:8080/",
          "height": 35
        },
        "id": "8rmLIfaBsica",
        "outputId": "f98fa73e-6205-43aa-b542-e11c5cc5ec8d"
      },
      "outputs": [
        {
          "data": {
            "application/vnd.google.colaboratory.intrinsic+json": {
              "type": "string"
            },
            "text/plain": [
              "'W'"
            ]
          },
          "execution_count": 61,
          "metadata": {},
          "output_type": "execute_result"
        }
      ],
      "source": [
        "my_string[-1]\n"
      ]
    },
    {
      "cell_type": "code",
      "execution_count": 67,
      "metadata": {
        "colab": {
          "base_uri": "https://localhost:8080/",
          "height": 176
        },
        "id": "umDUEvE8sxkf",
        "outputId": "ca6e103c-565b-4070-e26d-80925cc8e357"
      },
      "outputs": [
        {
          "ename": "IndexError",
          "evalue": "ignored",
          "output_type": "error",
          "traceback": [
            "\u001b[0;31m---------------------------------------------------------------------------\u001b[0m",
            "\u001b[0;31mIndexError\u001b[0m                                Traceback (most recent call last)",
            "\u001b[0;32m<ipython-input-67-93719b2ddbf7>\u001b[0m in \u001b[0;36m<cell line: 1>\u001b[0;34m()\u001b[0m\n\u001b[0;32m----> 1\u001b[0;31m \u001b[0mmy_string\u001b[0m\u001b[0;34m[\u001b[0m\u001b[0;34m-\u001b[0m\u001b[0;36m9\u001b[0m\u001b[0;34m]\u001b[0m\u001b[0;34m\u001b[0m\u001b[0;34m\u001b[0m\u001b[0m\n\u001b[0m",
            "\u001b[0;31mIndexError\u001b[0m: string index out of range"
          ]
        }
      ],
      "source": [
        "my_string[-9]"
      ]
    },
    {
      "cell_type": "code",
      "execution_count": 72,
      "metadata": {
        "colab": {
          "base_uri": "https://localhost:8080/",
          "height": 35
        },
        "id": "xKPDOO-MtKLR",
        "outputId": "357cdb6a-d747-424d-bac3-ba9650d5af6e"
      },
      "outputs": [
        {
          "data": {
            "application/vnd.google.colaboratory.intrinsic+json": {
              "type": "string"
            },
            "text/plain": [
              "'WoW'"
            ]
          },
          "execution_count": 72,
          "metadata": {},
          "output_type": "execute_result"
        }
      ],
      "source": [
        "my_string[-3:7]"
      ]
    },
    {
      "cell_type": "code",
      "execution_count": 80,
      "metadata": {
        "colab": {
          "base_uri": "https://localhost:8080/",
          "height": 35
        },
        "id": "03I373Ehtjkj",
        "outputId": "35fbb879-bf2c-4ea6-ba0d-c94ef1fc59ae"
      },
      "outputs": [
        {
          "data": {
            "application/vnd.google.colaboratory.intrinsic+json": {
              "type": "string"
            },
            "text/plain": [
              "'YaYWoW'"
            ]
          },
          "execution_count": 80,
          "metadata": {},
          "output_type": "execute_result"
        }
      ],
      "source": [
        "# Write code that show the string without the space in between YaY and WoW\n",
        "new_string = my_string[:3] + my_string[-3:]\n",
        "new_string"
      ]
    },
    {
      "cell_type": "code",
      "execution_count": 84,
      "metadata": {
        "colab": {
          "base_uri": "https://localhost:8080/",
          "height": 35
        },
        "id": "32fre7t4ud1v",
        "outputId": "e102c7ba-50e9-45de-e22c-09b8cb885656"
      },
      "outputs": [
        {
          "data": {
            "application/vnd.google.colaboratory.intrinsic+json": {
              "type": "string"
            },
            "text/plain": [
              "'YaY'"
            ]
          },
          "execution_count": 84,
          "metadata": {},
          "output_type": "execute_result"
        }
      ],
      "source": [
        "my_string[:3]"
      ]
    },
    {
      "cell_type": "code",
      "execution_count": 83,
      "metadata": {
        "colab": {
          "base_uri": "https://localhost:8080/",
          "height": 35
        },
        "id": "_0SVqZriuAAB",
        "outputId": "19ec7e39-2e48-4ceb-cf47-9a16839c51bf"
      },
      "outputs": [
        {
          "data": {
            "application/vnd.google.colaboratory.intrinsic+json": {
              "type": "string"
            },
            "text/plain": [
              "' WoW'"
            ]
          },
          "execution_count": 83,
          "metadata": {},
          "output_type": "execute_result"
        }
      ],
      "source": [
        "my_string[3:]"
      ]
    }
  ],
  "metadata": {
    "colab": {
      "provenance": []
    },
    "kernelspec": {
      "display_name": "Python 3",
      "name": "python3"
    },
    "language_info": {
      "codemirror_mode": {
        "name": "ipython",
        "version": 3
      },
      "file_extension": ".py",
      "mimetype": "text/x-python",
      "name": "python",
      "nbconvert_exporter": "python",
      "pygments_lexer": "ipython3",
      "version": "3.8.8"
    }
  },
  "nbformat": 4,
  "nbformat_minor": 0
}
