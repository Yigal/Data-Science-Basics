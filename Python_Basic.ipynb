{
  "cells": [
    {
      "cell_type": "markdown",
      "metadata": {
        "id": "i-dEzGEfR3dr"
      },
      "source": [
        "# Python Basics\n",
        "1. Type of variables\n"
      ]
    },
    {
      "cell_type": "markdown",
      "metadata": {
        "id": "fLueoQkjSmxP"
      },
      "source": [
        "1. when you want to assign a value to a variable you just use ="
      ]
    },
    {
      "cell_type": "code",
      "execution_count": 4,
      "metadata": {
        "id": "jD6hr5lkQdys"
      },
      "outputs": [],
      "source": [
        "not_my_int = 5"
      ]
    },
    {
      "cell_type": "markdown",
      "metadata": {
        "id": "pSWU9t2tTOyt"
      },
      "source": [
        "The three types of variables for today\n",
        "1. int - integer\n",
        "2. float - non interger **Number**\n",
        "3. String - Text variable  \n"
      ]
    },
    {
      "cell_type": "code",
      "execution_count": 6,
      "metadata": {
        "id": "CQ-hSr8TTk4u"
      },
      "outputs": [],
      "source": [
        "my_int = 5\n",
        "my_float = 5.0\n",
        "my_string = 'my_string_value'"
      ]
    },
    {
      "cell_type": "markdown",
      "metadata": {
        "id": "U6wQR58QT3ts"
      },
      "source": [
        "You can use the function: type to see the type"
      ]
    },
    {
      "cell_type": "code",
      "execution_count": 8,
      "metadata": {
        "colab": {
          "base_uri": "https://localhost:8080/"
        },
        "id": "2BOK7xcoTvd2",
        "outputId": "e98bbe65-ea90-4d12-ac7d-6535d4544e77"
      },
      "outputs": [
        {
          "data": {
            "text/plain": [
              "int"
            ]
          },
          "execution_count": 8,
          "metadata": {},
          "output_type": "execute_result"
        }
      ],
      "source": [
        "type(my_int)"
      ]
    },
    {
      "cell_type": "markdown",
      "metadata": {
        "id": "xxT9GTQRURQj"
      },
      "source": [
        "Yet another function:\n",
        "print()\n",
        "print('Yey')"
      ]
    },
    {
      "cell_type": "markdown",
      "metadata": {
        "id": "x-m8JobXUmkZ"
      },
      "source": [
        "Follow up exercise:\n",
        "1. Write variables from the three types we saw\n",
        "2. Use type in 3 different cells to see the types\n",
        "3. Use print to print your string ( we don't know yer how )\n",
        "4. Use print to print the types\n"
      ]
    },
    {
      "cell_type": "code",
      "execution_count": 11,
      "metadata": {
        "colab": {
          "base_uri": "https://localhost:8080/"
        },
        "id": "Bf8NVua1UaYb",
        "outputId": "2d38e71b-e7a6-43b3-be68-1db08d0c9fbb"
      },
      "outputs": [
        {
          "name": "stdout",
          "output_type": "stream",
          "text": [
            "Yey!\n"
          ]
        }
      ],
      "source": [
        "print('Yey!')"
      ]
    },
    {
      "cell_type": "code",
      "execution_count": 12,
      "metadata": {
        "colab": {
          "base_uri": "https://localhost:8080/"
        },
        "id": "WZXz4MxFVObH",
        "outputId": "6326b810-bcb4-4881-927d-ec0a210e8368"
      },
      "outputs": [
        {
          "data": {
            "text/plain": [
              "str"
            ]
          },
          "execution_count": 12,
          "metadata": {},
          "output_type": "execute_result"
        }
      ],
      "source": [
        "type(my_int)\n",
        "type(my_float)\n",
        "type(my_string)"
      ]
    },
    {
      "cell_type": "code",
      "execution_count": 15,
      "metadata": {
        "id": "c2dKzH5SVqZN"
      },
      "outputs": [],
      "source": [
        "Yey = 'YEY!!!!'"
      ]
    },
    {
      "cell_type": "code",
      "execution_count": 16,
      "metadata": {
        "colab": {
          "base_uri": "https://localhost:8080/"
        },
        "id": "TCyleSuVVZ1m",
        "outputId": "3d0ff102-040f-4b32-eb03-b2bdbe580d21"
      },
      "outputs": [
        {
          "name": "stdout",
          "output_type": "stream",
          "text": [
            "Yey\n",
            "YEY!!!!\n"
          ]
        }
      ],
      "source": [
        "print('Yey')\n",
        "print(Yey)"
      ]
    },
    {
      "cell_type": "markdown",
      "metadata": {
        "id": "nxJNQHkiV0-0"
      },
      "source": [
        "How to assign a value to a function?\n",
        "- Just put it in the () parentheses\n",
        "How do you call that?\n",
        "That is an **argument**\n",
        "\n"
      ]
    },
    {
      "cell_type": "code",
      "execution_count": null,
      "metadata": {
        "id": "lIrMk9pCWFQw"
      },
      "outputs": [],
      "source": [
        "print('Hello World!')"
      ]
    },
    {
      "cell_type": "markdown",
      "metadata": {
        "id": "3vb8DwbBWqCF"
      },
      "source": [
        "Followup:\n",
        "use the print function to print Hello World!"
      ]
    },
    {
      "cell_type": "markdown",
      "metadata": {
        "id": "s8rgFaKfW6db"
      },
      "source": [
        "# Operators:\n",
        "1. Basic math functions: + , - , / , *"
      ]
    },
    {
      "cell_type": "code",
      "execution_count": 17,
      "metadata": {
        "colab": {
          "base_uri": "https://localhost:8080/"
        },
        "id": "nV6T8b3EW3VJ",
        "outputId": "bf7be845-e343-4fd3-b483-eb12508349b4"
      },
      "outputs": [
        {
          "data": {
            "text/plain": [
              "9"
            ]
          },
          "execution_count": 17,
          "metadata": {},
          "output_type": "execute_result"
        }
      ],
      "source": [
        "# int to int --> int\n",
        "5 + 4"
      ]
    },
    {
      "cell_type": "code",
      "execution_count": 18,
      "metadata": {
        "colab": {
          "base_uri": "https://localhost:8080/"
        },
        "id": "Gw04l1QOXOkM",
        "outputId": "09cb5843-642f-4699-9a9b-86ef73ec337f"
      },
      "outputs": [
        {
          "data": {
            "text/plain": [
              "2.3"
            ]
          },
          "execution_count": 18,
          "metadata": {},
          "output_type": "execute_result"
        }
      ],
      "source": [
        "# float to int --> float\n",
        "5.3 - 3"
      ]
    },
    {
      "cell_type": "code",
      "execution_count": 19,
      "metadata": {
        "colab": {
          "base_uri": "https://localhost:8080/"
        },
        "id": "xq-mgR7RXQ-X",
        "outputId": "5d460f0c-f463-412c-847d-fb3298ea19c7"
      },
      "outputs": [
        {
          "data": {
            "text/plain": [
              "2.0"
            ]
          },
          "execution_count": 19,
          "metadata": {},
          "output_type": "execute_result"
        }
      ],
      "source": [
        "# int / int --> float\n",
        "# float / float --> float\n",
        "6 / 3"
      ]
    },
    {
      "cell_type": "code",
      "execution_count": 20,
      "metadata": {
        "colab": {
          "base_uri": "https://localhost:8080/"
        },
        "id": "rwnclIvCXTej",
        "outputId": "1127c4c1-ceff-461e-b1aa-40c0b8b49393"
      },
      "outputs": [
        {
          "data": {
            "text/plain": [
              "18"
            ]
          },
          "execution_count": 20,
          "metadata": {},
          "output_type": "execute_result"
        }
      ],
      "source": [
        "# int * int --> int\n",
        "6 * 3"
      ]
    },
    {
      "cell_type": "markdown",
      "metadata": {
        "id": "yUORehqWXzne"
      },
      "source": [
        "# Operators on string\n",
        "Basic operators: +, - , / , *"
      ]
    },
    {
      "cell_type": "code",
      "execution_count": 21,
      "metadata": {
        "colab": {
          "base_uri": "https://localhost:8080/",
          "height": 35
        },
        "id": "68qHOcdAX9QN",
        "outputId": "32f88638-5546-4ff0-e278-845921cc2397"
      },
      "outputs": [
        {
          "data": {
            "application/vnd.google.colaboratory.intrinsic+json": {
              "type": "string"
            },
            "text/plain": [
              "'my_string_valuemy_string_value'"
            ]
          },
          "execution_count": 21,
          "metadata": {},
          "output_type": "execute_result"
        }
      ],
      "source": [
        "my_string + my_string"
      ]
    },
    {
      "cell_type": "code",
      "execution_count": 22,
      "metadata": {
        "colab": {
          "base_uri": "https://localhost:8080/",
          "height": 176
        },
        "id": "mmeEUZ0sYQhA",
        "outputId": "9af5312e-453d-4576-833a-b71ad8d6023d"
      },
      "outputs": [
        {
          "ename": "TypeError",
          "evalue": "ignored",
          "output_type": "error",
          "traceback": [
            "\u001b[0;31m---------------------------------------------------------------------------\u001b[0m",
            "\u001b[0;31mTypeError\u001b[0m                                 Traceback (most recent call last)",
            "\u001b[0;32m<ipython-input-22-46262ea83a9d>\u001b[0m in \u001b[0;36m<cell line: 1>\u001b[0;34m()\u001b[0m\n\u001b[0;32m----> 1\u001b[0;31m \u001b[0mmy_string\u001b[0m \u001b[0;34m-\u001b[0m \u001b[0mmy_string\u001b[0m\u001b[0;34m\u001b[0m\u001b[0;34m\u001b[0m\u001b[0m\n\u001b[0m",
            "\u001b[0;31mTypeError\u001b[0m: unsupported operand type(s) for -: 'str' and 'str'"
          ]
        }
      ],
      "source": [
        "my_string - my_string"
      ]
    },
    {
      "cell_type": "code",
      "execution_count": 23,
      "metadata": {
        "colab": {
          "base_uri": "https://localhost:8080/",
          "height": 176
        },
        "id": "1P2a7CBEYgMF",
        "outputId": "39487c6a-e037-43c1-ae28-04bdc324c341"
      },
      "outputs": [
        {
          "ename": "TypeError",
          "evalue": "ignored",
          "output_type": "error",
          "traceback": [
            "\u001b[0;31m---------------------------------------------------------------------------\u001b[0m",
            "\u001b[0;31mTypeError\u001b[0m                                 Traceback (most recent call last)",
            "\u001b[0;32m<ipython-input-23-164568a00c39>\u001b[0m in \u001b[0;36m<cell line: 1>\u001b[0;34m()\u001b[0m\n\u001b[0;32m----> 1\u001b[0;31m \u001b[0mmy_string\u001b[0m \u001b[0;34m/\u001b[0m \u001b[0mmy_string\u001b[0m\u001b[0;34m\u001b[0m\u001b[0;34m\u001b[0m\u001b[0m\n\u001b[0m",
            "\u001b[0;31mTypeError\u001b[0m: unsupported operand type(s) for /: 'str' and 'str'"
          ]
        }
      ],
      "source": [
        "my_string / my_string"
      ]
    },
    {
      "cell_type": "code",
      "execution_count": 24,
      "metadata": {
        "colab": {
          "base_uri": "https://localhost:8080/",
          "height": 176
        },
        "id": "U5EzqW14YgQK",
        "outputId": "d3f1f591-9994-40fe-8340-ef81a4a17b87"
      },
      "outputs": [
        {
          "ename": "TypeError",
          "evalue": "ignored",
          "output_type": "error",
          "traceback": [
            "\u001b[0;31m---------------------------------------------------------------------------\u001b[0m",
            "\u001b[0;31mTypeError\u001b[0m                                 Traceback (most recent call last)",
            "\u001b[0;32m<ipython-input-24-f4df06c60ca6>\u001b[0m in \u001b[0;36m<cell line: 1>\u001b[0;34m()\u001b[0m\n\u001b[0;32m----> 1\u001b[0;31m \u001b[0mmy_string\u001b[0m \u001b[0;34m*\u001b[0m \u001b[0mmy_string\u001b[0m\u001b[0;34m\u001b[0m\u001b[0;34m\u001b[0m\u001b[0m\n\u001b[0m",
            "\u001b[0;31mTypeError\u001b[0m: can't multiply sequence by non-int of type 'str'"
          ]
        }
      ],
      "source": [
        "my_string * my_string"
      ]
    },
    {
      "cell_type": "code",
      "execution_count": 25,
      "metadata": {
        "colab": {
          "base_uri": "https://localhost:8080/",
          "height": 35
        },
        "id": "H1dkeqMAYxdC",
        "outputId": "b3d7fa44-3302-4d9d-c66e-742dccb70548"
      },
      "outputs": [
        {
          "data": {
            "application/vnd.google.colaboratory.intrinsic+json": {
              "type": "string"
            },
            "text/plain": [
              "'my_string_valuemy_string_valuemy_string_value'"
            ]
          },
          "execution_count": 25,
          "metadata": {},
          "output_type": "execute_result"
        }
      ],
      "source": [
        "my_string * 3"
      ]
    },
    {
      "cell_type": "markdown",
      "metadata": {
        "id": "U9mWPRofZmuF"
      },
      "source": [
        "# What is a function?\n",
        "\n",
        "A code part that was **defined** and can operate on an **argument**"
      ]
    },
    {
      "cell_type": "code",
      "execution_count": 42,
      "metadata": {
        "id": "z2eO2UsfZk2D"
      },
      "outputs": [],
      "source": [
        "def my_function(my_number):\n",
        "  return my_number"
      ]
    },
    {
      "cell_type": "markdown",
      "metadata": {
        "id": "obUQjoZ_aL8F"
      },
      "source": [
        "1. **def** --> I'm going to start a function, key words\n",
        "1. after that we ** must have ** the function name in our case \"my_function\" can be any name\n",
        "1. **must** have parentheses --> they will be the argument def\n",
        "1. In the parentheses you can have an **argument** or not --> (argument), ()\n",
        "3. **must**  have \":\"\n",
        "4. New line\n",
        "5. Must have at least one space or tab\n",
        "6. Optional have the **return** key word\n",
        "\n"
      ]
    },
    {
      "cell_type": "markdown",
      "metadata": {},
      "source": [
        "# Bad Functions got to catch them all\n",
        "1. No name\n",
        "2. No parentheses\n",
        "3. No colon \":\" at the end of the line\n",
        "4. No space on or tab on the second line\n",
        "5. No function block"
      ]
    },
    {
      "cell_type": "code",
      "execution_count": 2,
      "metadata": {
        "colab": {
          "base_uri": "https://localhost:8080/",
          "height": 142
        },
        "id": "67F-uRf5bMnV",
        "outputId": "d2454fa2-55d3-48c3-a3fa-40dc9336a0f0"
      },
      "outputs": [
        {
          "ename": "SyntaxError",
          "evalue": "invalid syntax (<ipython-input-2-286f1539f858>, line 1)",
          "output_type": "error",
          "traceback": [
            "\u001b[0;36m  Cell \u001b[0;32mIn[2], line 1\u001b[0;36m\u001b[0m\n\u001b[0;31m    def (my_number):\u001b[0m\n\u001b[0m        ^\u001b[0m\n\u001b[0;31mSyntaxError\u001b[0m\u001b[0;31m:\u001b[0m invalid syntax\n"
          ]
        }
      ],
      "source": [
        "# 1. No name\n",
        "def (my_number):\n",
        "  return my_number"
      ]
    },
    {
      "cell_type": "code",
      "execution_count": 3,
      "metadata": {
        "colab": {
          "base_uri": "https://localhost:8080/",
          "height": 142
        },
        "id": "b72QoWLRbMva",
        "outputId": "a8534e50-fa71-4ca1-dc29-1e8cb068e1e3"
      },
      "outputs": [
        {
          "ename": "SyntaxError",
          "evalue": "invalid syntax (<ipython-input-3-f8dde97aac7f>, line 1)",
          "output_type": "error",
          "traceback": [
            "\u001b[0;36m  Cell \u001b[0;32mIn[3], line 1\u001b[0;36m\u001b[0m\n\u001b[0;31m    def my_function:\u001b[0m\n\u001b[0m                   ^\u001b[0m\n\u001b[0;31mSyntaxError\u001b[0m\u001b[0;31m:\u001b[0m invalid syntax\n"
          ]
        }
      ],
      "source": [
        "# 2. No parentheses\n",
        "# def my_function:\n",
        "return my_number"
      ]
    },
    {
      "cell_type": "code",
      "execution_count": 31,
      "metadata": {
        "colab": {
          "base_uri": "https://localhost:8080/",
          "height": 142
        },
        "id": "mV4M00VUbMyT",
        "outputId": "56270be1-acea-47eb-e005-c0c7b0ff16af"
      },
      "outputs": [
        {
          "ename": "SyntaxError",
          "evalue": "ignored",
          "output_type": "error",
          "traceback": [
            "\u001b[0;36m  File \u001b[0;32m\"<ipython-input-31-cae28636d2a3>\"\u001b[0;36m, line \u001b[0;32m1\u001b[0m\n\u001b[0;31m    def my_function:\u001b[0m\n\u001b[0m                   ^\u001b[0m\n\u001b[0;31mSyntaxError\u001b[0m\u001b[0;31m:\u001b[0m invalid syntax\n"
          ]
        }
      ],
      "source": [
        "# 3. No colon\n",
        "def my_function\n",
        "  return my_number"
      ]
    },
    {
      "cell_type": "code",
      "execution_count": 4,
      "metadata": {
        "id": "iab3EMZ4bM0a"
      },
      "outputs": [
        {
          "ename": "IndentationError",
          "evalue": "expected an indented block (<ipython-input-4-4a0c983cb33e>, line 3)",
          "output_type": "error",
          "traceback": [
            "\u001b[0;36m  Cell \u001b[0;32mIn[4], line 3\u001b[0;36m\u001b[0m\n\u001b[0;31m    return my_number\u001b[0m\n\u001b[0m    ^\u001b[0m\n\u001b[0;31mIndentationError\u001b[0m\u001b[0;31m:\u001b[0m expected an indented block\n"
          ]
        }
      ],
      "source": [
        "# 4. No indentation\n",
        "def my_function():\n",
        "return my_number"
      ]
    },
    {
      "cell_type": "code",
      "execution_count": 6,
      "metadata": {
        "id": "_O2Zup3_bM2w"
      },
      "outputs": [
        {
          "ename": "SyntaxError",
          "evalue": "unexpected EOF while parsing (<ipython-input-6-95121774922f>, line 2)",
          "output_type": "error",
          "traceback": [
            "\u001b[0;36m  Cell \u001b[0;32mIn[6], line 2\u001b[0;36m\u001b[0m\n\u001b[0;31m    def my_function():\u001b[0m\n\u001b[0m                      ^\u001b[0m\n\u001b[0;31mSyntaxError\u001b[0m\u001b[0;31m:\u001b[0m unexpected EOF while parsing\n"
          ]
        }
      ],
      "source": [
        "#5 No function body\n",
        "def my_function():"
      ]
    },
    {
      "cell_type": "code",
      "execution_count": 7,
      "metadata": {
        "colab": {
          "base_uri": "https://localhost:8080/",
          "height": 142
        },
        "id": "ONfVB_5IbM4z",
        "outputId": "83fe9501-1d9e-480b-d710-3425c24bde17"
      },
      "outputs": [],
      "source": [
        "# 6. No return No problem!!\n",
        "def my_function():\n",
        "    print('Hello World!')"
      ]
    },
    {
      "cell_type": "markdown",
      "metadata": {},
      "source": [
        "# Good functions"
      ]
    },
    {
      "cell_type": "code",
      "execution_count": null,
      "metadata": {},
      "outputs": [],
      "source": [
        "def my_add_function(a, b):\n",
        "    return a + b\n",
        "\n",
        "def my_print_function():\n",
        "    print('Hello World!')\n",
        "\n",
        "def my_string_manipulation_function(my_string):\n",
        "    return my_string + '!!!'"
      ]
    },
    {
      "cell_type": "markdown",
      "metadata": {
        "id": "UyC_uB7Gdeux"
      },
      "source": [
        "# Fore-shadowing\n",
        "How to define a sting\n",
        "1. \"Hello world!\"\n",
        "1. 'Hello world!'\n",
        "1. \"\"\" Hello world \"\"\"\n",
        "\n",
        "Why?\n",
        "The python creator chose it"
      ]
    },
    {
      "cell_type": "code",
      "execution_count": 37,
      "metadata": {
        "colab": {
          "base_uri": "https://localhost:8080/",
          "height": 35
        },
        "id": "hx_RMoi-dCID",
        "outputId": "f55d9921-3152-4c0c-a74a-dd38d97966e1"
      },
      "outputs": [
        {
          "data": {
            "application/vnd.google.colaboratory.intrinsic+json": {
              "type": "string"
            },
            "text/plain": [
              "'same'"
            ]
          },
          "execution_count": 37,
          "metadata": {},
          "output_type": "execute_result"
        }
      ],
      "source": [
        "'same'"
      ]
    },
    {
      "cell_type": "code",
      "execution_count": 38,
      "metadata": {
        "colab": {
          "base_uri": "https://localhost:8080/",
          "height": 35
        },
        "id": "ZSlApj0gdDFm",
        "outputId": "15b9f525-bd92-482b-e9df-55a5420160a4"
      },
      "outputs": [
        {
          "data": {
            "application/vnd.google.colaboratory.intrinsic+json": {
              "type": "string"
            },
            "text/plain": [
              "'same'"
            ]
          },
          "execution_count": 38,
          "metadata": {},
          "output_type": "execute_result"
        }
      ],
      "source": [
        "\"same\""
      ]
    },
    {
      "cell_type": "code",
      "execution_count": 41,
      "metadata": {
        "colab": {
          "base_uri": "https://localhost:8080/",
          "height": 35
        },
        "id": "9CYZQZgNdD-S",
        "outputId": "e9666a72-7699-4708-f578-f1e261652eb7"
      },
      "outputs": [
        {
          "data": {
            "application/vnd.google.colaboratory.intrinsic+json": {
              "type": "string"
            },
            "text/plain": [
              "'same'"
            ]
          },
          "execution_count": 41,
          "metadata": {},
          "output_type": "execute_result"
        }
      ],
      "source": [
        "\"\"\"same\"\"\""
      ]
    },
    {
      "cell_type": "code",
      "execution_count": 36,
      "metadata": {
        "colab": {
          "base_uri": "https://localhost:8080/",
          "height": 35
        },
        "id": "ZDMtO25ydKIj",
        "outputId": "0e9c86a3-020f-4157-ec63-902eee2cec1c"
      },
      "outputs": [
        {
          "data": {
            "application/vnd.google.colaboratory.intrinsic+json": {
              "type": "string"
            },
            "text/plain": [
              "'same'"
            ]
          },
          "execution_count": 36,
          "metadata": {},
          "output_type": "execute_result"
        }
      ],
      "source": [
        "'''same'''"
      ]
    },
    {
      "cell_type": "code",
      "execution_count": 43,
      "metadata": {
        "id": "jcn9cdiGkr7P"
      },
      "outputs": [],
      "source": [
        "def my_function(my_number):\n",
        "\n",
        "  return my_number"
      ]
    },
    {
      "cell_type": "code",
      "execution_count": 44,
      "metadata": {
        "colab": {
          "base_uri": "https://localhost:8080/"
        },
        "id": "BGqqGpNTktO1",
        "outputId": "588d1eb7-01bd-4c82-ffd7-fd5d0b146dfa"
      },
      "outputs": [
        {
          "data": {
            "text/plain": [
              "2"
            ]
          },
          "execution_count": 44,
          "metadata": {},
          "output_type": "execute_result"
        }
      ],
      "source": [
        "my_function(2)"
      ]
    },
    {
      "cell_type": "code",
      "execution_count": 47,
      "metadata": {
        "id": "fyNFQruIqIZ9"
      },
      "outputs": [],
      "source": [
        "my_char = 's'"
      ]
    },
    {
      "cell_type": "code",
      "execution_count": 48,
      "metadata": {
        "id": "ETE67W5pqKlE"
      },
      "outputs": [],
      "source": [
        "my_char2 = 'S'"
      ]
    },
    {
      "cell_type": "code",
      "execution_count": 45,
      "metadata": {
        "id": "-jFwokaip0nC"
      },
      "outputs": [],
      "source": [
        "my_string = 'YaY WoW'"
      ]
    },
    {
      "cell_type": "code",
      "execution_count": 46,
      "metadata": {
        "colab": {
          "base_uri": "https://localhost:8080/",
          "height": 35
        },
        "id": "up5QAEysqA4s",
        "outputId": "12a55238-46a3-46d5-c67c-e9373b28a466"
      },
      "outputs": [
        {
          "data": {
            "application/vnd.google.colaboratory.intrinsic+json": {
              "type": "string"
            },
            "text/plain": [
              "'YaY WoW'"
            ]
          },
          "execution_count": 46,
          "metadata": {},
          "output_type": "execute_result"
        }
      ],
      "source": [
        "my_string"
      ]
    },
    {
      "cell_type": "code",
      "execution_count": 49,
      "metadata": {
        "colab": {
          "base_uri": "https://localhost:8080/",
          "height": 35
        },
        "id": "wTkeN_m5qV8m",
        "outputId": "8aa824ca-5c0b-4907-cd1e-4249a99fa845"
      },
      "outputs": [
        {
          "data": {
            "application/vnd.google.colaboratory.intrinsic+json": {
              "type": "string"
            },
            "text/plain": [
              "'YaY WoW'"
            ]
          },
          "execution_count": 49,
          "metadata": {},
          "output_type": "execute_result"
        }
      ],
      "source": [
        "my_string"
      ]
    },
    {
      "cell_type": "code",
      "execution_count": 50,
      "metadata": {
        "colab": {
          "base_uri": "https://localhost:8080/",
          "height": 35
        },
        "id": "qJJkEcGkqmHg",
        "outputId": "c0906ff6-9825-4252-9397-c20e0507dcf4"
      },
      "outputs": [
        {
          "data": {
            "application/vnd.google.colaboratory.intrinsic+json": {
              "type": "string"
            },
            "text/plain": [
              "'Y'"
            ]
          },
          "execution_count": 50,
          "metadata": {},
          "output_type": "execute_result"
        }
      ],
      "source": [
        "# New Operator []\n",
        "my_string[0]"
      ]
    },
    {
      "cell_type": "code",
      "execution_count": 51,
      "metadata": {
        "colab": {
          "base_uri": "https://localhost:8080/"
        },
        "id": "av_Td2J0q3uR",
        "outputId": "b42c21b5-65fc-4f6b-9410-37b16b5df3b9"
      },
      "outputs": [
        {
          "name": "stdout",
          "output_type": "stream",
          "text": [
            "YaY WoW\n"
          ]
        }
      ],
      "source": [
        "print(my_string)"
      ]
    },
    {
      "cell_type": "code",
      "execution_count": 55,
      "metadata": {
        "colab": {
          "base_uri": "https://localhost:8080/",
          "height": 35
        },
        "id": "BulSezDnq31l",
        "outputId": "d096b20b-be9c-4171-f2ab-866eb08874e9"
      },
      "outputs": [
        {
          "data": {
            "application/vnd.google.colaboratory.intrinsic+json": {
              "type": "string"
            },
            "text/plain": [
              "' '"
            ]
          },
          "execution_count": 55,
          "metadata": {},
          "output_type": "execute_result"
        }
      ],
      "source": [
        "my_string[3]"
      ]
    },
    {
      "cell_type": "code",
      "execution_count": 59,
      "metadata": {
        "colab": {
          "base_uri": "https://localhost:8080/"
        },
        "id": "XxPVpyjOr_b3",
        "outputId": "2677535f-b387-4fc4-bfb0-03ea7b21933a"
      },
      "outputs": [
        {
          "name": "stdout",
          "output_type": "stream",
          "text": [
            "YaY \n",
            "W\n"
          ]
        }
      ],
      "source": [
        "print(my_string[0:4])\n",
        "print(my_string[4])"
      ]
    },
    {
      "cell_type": "code",
      "execution_count": 66,
      "metadata": {
        "colab": {
          "base_uri": "https://localhost:8080/",
          "height": 176
        },
        "id": "UUm3Q2LGs_Dk",
        "outputId": "51c656cc-dea1-4c44-8ae6-1f873c26fe67"
      },
      "outputs": [
        {
          "ename": "IndexError",
          "evalue": "ignored",
          "output_type": "error",
          "traceback": [
            "\u001b[0;31m---------------------------------------------------------------------------\u001b[0m",
            "\u001b[0;31mIndexError\u001b[0m                                Traceback (most recent call last)",
            "\u001b[0;32m<ipython-input-66-a8aa16518d4b>\u001b[0m in \u001b[0;36m<cell line: 1>\u001b[0;34m()\u001b[0m\n\u001b[0;32m----> 1\u001b[0;31m \u001b[0mmy_string\u001b[0m\u001b[0;34m[\u001b[0m\u001b[0;36m9\u001b[0m\u001b[0;34m]\u001b[0m\u001b[0;34m\u001b[0m\u001b[0;34m\u001b[0m\u001b[0m\n\u001b[0m",
            "\u001b[0;31mIndexError\u001b[0m: string index out of range"
          ]
        }
      ],
      "source": [
        "my_string[9]"
      ]
    },
    {
      "cell_type": "code",
      "execution_count": 60,
      "metadata": {
        "colab": {
          "base_uri": "https://localhost:8080/"
        },
        "id": "r8vAuj1psaHE",
        "outputId": "869ffbf9-5498-4c1b-9bc8-8a7808a8fa14"
      },
      "outputs": [
        {
          "name": "stdout",
          "output_type": "stream",
          "text": [
            "YaY \n",
            "YaY \n"
          ]
        }
      ],
      "source": [
        "print(my_string[:4])\n",
        "print(my_string[0:4])"
      ]
    },
    {
      "cell_type": "code",
      "execution_count": 61,
      "metadata": {
        "colab": {
          "base_uri": "https://localhost:8080/",
          "height": 35
        },
        "id": "8rmLIfaBsica",
        "outputId": "f98fa73e-6205-43aa-b542-e11c5cc5ec8d"
      },
      "outputs": [
        {
          "data": {
            "application/vnd.google.colaboratory.intrinsic+json": {
              "type": "string"
            },
            "text/plain": [
              "'W'"
            ]
          },
          "execution_count": 61,
          "metadata": {},
          "output_type": "execute_result"
        }
      ],
      "source": [
        "my_string[-1]\n"
      ]
    },
    {
      "cell_type": "code",
      "execution_count": 67,
      "metadata": {
        "colab": {
          "base_uri": "https://localhost:8080/",
          "height": 176
        },
        "id": "umDUEvE8sxkf",
        "outputId": "ca6e103c-565b-4070-e26d-80925cc8e357"
      },
      "outputs": [
        {
          "ename": "IndexError",
          "evalue": "ignored",
          "output_type": "error",
          "traceback": [
            "\u001b[0;31m---------------------------------------------------------------------------\u001b[0m",
            "\u001b[0;31mIndexError\u001b[0m                                Traceback (most recent call last)",
            "\u001b[0;32m<ipython-input-67-93719b2ddbf7>\u001b[0m in \u001b[0;36m<cell line: 1>\u001b[0;34m()\u001b[0m\n\u001b[0;32m----> 1\u001b[0;31m \u001b[0mmy_string\u001b[0m\u001b[0;34m[\u001b[0m\u001b[0;34m-\u001b[0m\u001b[0;36m9\u001b[0m\u001b[0;34m]\u001b[0m\u001b[0;34m\u001b[0m\u001b[0;34m\u001b[0m\u001b[0m\n\u001b[0m",
            "\u001b[0;31mIndexError\u001b[0m: string index out of range"
          ]
        }
      ],
      "source": [
        "my_string[-9]"
      ]
    },
    {
      "cell_type": "code",
      "execution_count": 72,
      "metadata": {
        "colab": {
          "base_uri": "https://localhost:8080/",
          "height": 35
        },
        "id": "xKPDOO-MtKLR",
        "outputId": "357cdb6a-d747-424d-bac3-ba9650d5af6e"
      },
      "outputs": [
        {
          "data": {
            "application/vnd.google.colaboratory.intrinsic+json": {
              "type": "string"
            },
            "text/plain": [
              "'WoW'"
            ]
          },
          "execution_count": 72,
          "metadata": {},
          "output_type": "execute_result"
        }
      ],
      "source": [
        "my_string[-3:7]"
      ]
    },
    {
      "cell_type": "code",
      "execution_count": 80,
      "metadata": {
        "colab": {
          "base_uri": "https://localhost:8080/",
          "height": 35
        },
        "id": "03I373Ehtjkj",
        "outputId": "35fbb879-bf2c-4ea6-ba0d-c94ef1fc59ae"
      },
      "outputs": [
        {
          "data": {
            "application/vnd.google.colaboratory.intrinsic+json": {
              "type": "string"
            },
            "text/plain": [
              "'YaYWoW'"
            ]
          },
          "execution_count": 80,
          "metadata": {},
          "output_type": "execute_result"
        }
      ],
      "source": [
        "# Write code that show the string without the space in between YaY and WoW\n",
        "new_string = my_string[:3] + my_string[-3:]\n",
        "new_string"
      ]
    },
    {
      "cell_type": "code",
      "execution_count": 84,
      "metadata": {
        "colab": {
          "base_uri": "https://localhost:8080/",
          "height": 35
        },
        "id": "32fre7t4ud1v",
        "outputId": "e102c7ba-50e9-45de-e22c-09b8cb885656"
      },
      "outputs": [
        {
          "data": {
            "application/vnd.google.colaboratory.intrinsic+json": {
              "type": "string"
            },
            "text/plain": [
              "'YaY'"
            ]
          },
          "execution_count": 84,
          "metadata": {},
          "output_type": "execute_result"
        }
      ],
      "source": [
        "my_string[:3]"
      ]
    },
    {
      "cell_type": "code",
      "execution_count": 83,
      "metadata": {
        "colab": {
          "base_uri": "https://localhost:8080/",
          "height": 35
        },
        "id": "_0SVqZriuAAB",
        "outputId": "19ec7e39-2e48-4ceb-cf47-9a16839c51bf"
      },
      "outputs": [
        {
          "data": {
            "application/vnd.google.colaboratory.intrinsic+json": {
              "type": "string"
            },
            "text/plain": [
              "' WoW'"
            ]
          },
          "execution_count": 83,
          "metadata": {},
          "output_type": "execute_result"
        }
      ],
      "source": [
        "my_string[3:]"
      ]
    }
  ],
  "metadata": {
    "colab": {
      "provenance": []
    },
    "kernelspec": {
      "display_name": "Python 3",
      "name": "python3"
    },
    "language_info": {
      "codemirror_mode": {
        "name": "ipython",
        "version": 3
      },
      "file_extension": ".py",
      "mimetype": "text/x-python",
      "name": "python",
      "nbconvert_exporter": "python",
      "pygments_lexer": "ipython3",
      "version": "3.8.8"
    }
  },
  "nbformat": 4,
  "nbformat_minor": 0
}
